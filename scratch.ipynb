{
 "cells": [
  {
   "cell_type": "code",
   "execution_count": 65,
   "metadata": {},
   "outputs": [],
   "source": [
    "import pandas as pd \n",
    "import matplotlib.pyplot as plt\n",
    "training_data = pd.read_csv(\"training_data.csv\")\n",
    "\n",
    "avg_work_rates_df= pd.read_csv(\"avg_work_rates_df.csv\")"
   ]
  },
  {
   "cell_type": "code",
   "execution_count": 72,
   "metadata": {},
   "outputs": [
    {
     "ename": "TypeError",
     "evalue": "hist2d() missing 1 required positional argument: 'y'",
     "output_type": "error",
     "traceback": [
      "\u001b[1;31m---------------------------------------------------------------------------\u001b[0m",
      "\u001b[1;31mTypeError\u001b[0m                                 Traceback (most recent call last)",
      "Cell \u001b[1;32mIn[72], line 1\u001b[0m\n\u001b[1;32m----> 1\u001b[0m \u001b[43mplt\u001b[49m\u001b[38;5;241;43m.\u001b[39;49m\u001b[43mhist2d\u001b[49m\u001b[43m(\u001b[49m\u001b[43mtraining_data\u001b[49m\u001b[43m[\u001b[49m\u001b[38;5;124;43m\"\u001b[39;49m\u001b[38;5;124;43mavg_home_players_rating\u001b[39;49m\u001b[38;5;124;43m\"\u001b[39;49m\u001b[43m]\u001b[49m\u001b[43m)\u001b[49m\n",
      "\u001b[1;31mTypeError\u001b[0m: hist2d() missing 1 required positional argument: 'y'"
     ]
    }
   ],
   "source": [
    "plt.hist2d(training_data[\"avg_home_players_rating\"])\n"
   ]
  },
  {
   "cell_type": "code",
   "execution_count": 43,
   "metadata": {},
   "outputs": [
    {
     "data": {
      "text/plain": [
       "avg_attack_work_rate_difference\n",
       "-4.545455     6\n",
       " 0.000000     4\n",
       "-5.681818     2\n",
       "-6.818182     2\n",
       "-3.181818     2\n",
       "             ..\n",
       "-10.279822    1\n",
       "-14.046127    1\n",
       "-13.233698    1\n",
       " 3.417018     1\n",
       "-2.685950     1\n",
       "Name: count, Length: 987, dtype: int64"
      ]
     },
     "execution_count": 43,
     "metadata": {},
     "output_type": "execute_result"
    }
   ],
   "source": [
    "training_data[\"avg_attack_work_rate_difference\"].value_counts()"
   ]
  },
  {
   "cell_type": "code",
   "execution_count": 45,
   "metadata": {},
   "outputs": [
    {
     "data": {
      "text/plain": [
       "max_attack_work_rate_difference\n",
       " 0.000000     409\n",
       "-50.000000     35\n",
       " 50.000000     32\n",
       "-25.000000     13\n",
       " 2.500000      12\n",
       "             ... \n",
       "-35.714286      1\n",
       " 34.615385      1\n",
       " 1.666667       1\n",
       "-3.125000       1\n",
       " 20.454545      1\n",
       "Name: count, Length: 264, dtype: int64"
      ]
     },
     "execution_count": 45,
     "metadata": {},
     "output_type": "execute_result"
    }
   ],
   "source": [
    "training_data[\"max_attack_work_rate_difference\"].value_counts()"
   ]
  },
  {
   "cell_type": "code",
   "execution_count": 17,
   "metadata": {},
   "outputs": [
    {
     "data": {
      "text/plain": [
       "attacking_work_rate\n",
       "50.000000     5059\n",
       "0.000000      1024\n",
       "100.000000     904\n",
       "75.000000       79\n",
       "66.666667       47\n",
       "              ... \n",
       "28.846154        1\n",
       "20.370370        1\n",
       "26.000000        1\n",
       "85.937500        1\n",
       "70.312500        1\n",
       "Name: count, Length: 437, dtype: int64"
      ]
     },
     "execution_count": 17,
     "metadata": {},
     "output_type": "execute_result"
    }
   ],
   "source": [
    "avg_work_rates_df[\"attacking_work_rate\"].value_counts()"
   ]
  },
  {
   "cell_type": "code",
   "execution_count": 5,
   "metadata": {},
   "outputs": [
    {
     "data": {
      "text/plain": [
       "avg_home_attack_work_rate\n",
       "56.060606    4\n",
       "53.409091    3\n",
       "50.000000    3\n",
       "54.545455    3\n",
       "52.272727    3\n",
       "            ..\n",
       "60.625797    1\n",
       "60.258625    1\n",
       "58.864510    1\n",
       "55.835561    1\n",
       "66.438196    1\n",
       "Name: count, Length: 15411, dtype: int64"
      ]
     },
     "execution_count": 5,
     "metadata": {},
     "output_type": "execute_result"
    }
   ],
   "source": [
    "training_data[\"avg_home_attack_work_rate\"].value_counts()"
   ]
  }
 ],
 "metadata": {
  "kernelspec": {
   "display_name": "Python 3",
   "language": "python",
   "name": "python3"
  },
  "language_info": {
   "codemirror_mode": {
    "name": "ipython",
    "version": 3
   },
   "file_extension": ".py",
   "mimetype": "text/x-python",
   "name": "python",
   "nbconvert_exporter": "python",
   "pygments_lexer": "ipython3",
   "version": "3.12.1"
  }
 },
 "nbformat": 4,
 "nbformat_minor": 2
}
